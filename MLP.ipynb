{
 "cells": [
  {
   "cell_type": "code",
   "execution_count": 1,
   "id": "61c9fe84",
   "metadata": {},
   "outputs": [
    {
     "name": "stderr",
     "output_type": "stream",
     "text": [
      "2023-06-16 16:28:12.841628: I tensorflow/core/util/port.cc:110] oneDNN custom operations are on. You may see slightly different numerical results due to floating-point round-off errors from different computation orders. To turn them off, set the environment variable `TF_ENABLE_ONEDNN_OPTS=0`.\n",
      "2023-06-16 16:28:12.843758: I tensorflow/tsl/cuda/cudart_stub.cc:28] Could not find cuda drivers on your machine, GPU will not be used.\n",
      "2023-06-16 16:28:12.887872: I tensorflow/tsl/cuda/cudart_stub.cc:28] Could not find cuda drivers on your machine, GPU will not be used.\n",
      "2023-06-16 16:28:12.888788: I tensorflow/core/platform/cpu_feature_guard.cc:182] This TensorFlow binary is optimized to use available CPU instructions in performance-critical operations.\n",
      "To enable the following instructions: AVX2 AVX512F AVX512_VNNI FMA, in other operations, rebuild TensorFlow with the appropriate compiler flags.\n",
      "2023-06-16 16:28:13.622536: W tensorflow/compiler/tf2tensorrt/utils/py_utils.cc:38] TF-TRT Warning: Could not find TensorRT\n"
     ]
    }
   ],
   "source": [
    "import tensorflow as tf\n",
    "import numpy as np\n",
    "import matplotlib.pyplot as plt\n",
    "import random"
   ]
  },
  {
   "cell_type": "code",
   "execution_count": 2,
   "id": "1ff2358a",
   "metadata": {},
   "outputs": [],
   "source": [
    "# 시드 설정\n",
    "random.seed(1)\n",
    "np.random.seed(1)\n",
    "tf.random.set_seed(1)"
   ]
  },
  {
   "cell_type": "code",
   "execution_count": 22,
   "id": "06e5e16c",
   "metadata": {},
   "outputs": [],
   "source": [
    "def plot_graph(x, y, x_hat, y_hat):\n",
    "    fig = plt.figure(figsize=(8,6))\n",
    "    \n",
    "    plt.plot(x,y,marker='o')\n",
    "    plt.plot(x_hat,y_hat)"
   ]
  },
  {
   "cell_type": "code",
   "execution_count": 4,
   "id": "b6444bee",
   "metadata": {},
   "outputs": [
    {
     "name": "stdout",
     "output_type": "stream",
     "text": [
      "(40,)\n",
      "(40,)\n",
      "tf.Tensor(\n",
      "[1.8987797 4.5457516 3.383644  2.1203423 1.7753278 2.018879  3.087808\n",
      " 2.7967396 2.4418437 2.279456  2.3740077 2.284974  2.6516457 2.66353\n",
      " 3.1825757 4.1085954 4.279659  2.9785242 2.6803112 3.3733256 5.903088\n",
      " 4.411979  5.4369044 6.8365564 6.21176   5.0107136 4.735779  4.4627514\n",
      " 4.248066  5.5212245 4.948624  3.7568302 5.164639  4.4573326 6.509138\n",
      " 6.7362537 4.816311  6.173609  5.079377  4.4586973], shape=(40,), dtype=float32)\n",
      "tf.Tensor(\n",
      "[0. 0. 0. 0. 0. 0. 0. 0. 0. 0. 0. 0. 0. 0. 0. 0. 0. 0. 0. 0. 1. 1. 1. 1.\n",
      " 1. 1. 1. 1. 1. 1. 1. 1. 1. 1. 1. 1. 1. 1. 1. 1.], shape=(40,), dtype=float32)\n"
     ]
    },
    {
     "name": "stderr",
     "output_type": "stream",
     "text": [
      "2023-06-16 16:28:17.252796: W tensorflow/core/common_runtime/gpu/gpu_device.cc:1956] Cannot dlopen some GPU libraries. Please make sure the missing libraries mentioned above are installed properly if you would like to use GPU. Follow the guide at https://www.tensorflow.org/install/gpu for how to download and setup the required libraries for your platform.\n",
      "Skipping registering GPU devices...\n"
     ]
    }
   ],
   "source": [
    "x_0 = tf.random.normal([20], 3, 1)\n",
    "y_0 = tf.zeros(20)\n",
    "x_1 = tf.random.normal([20], 5.5, 1)\n",
    "y_1 = tf.ones(20)\n",
    "\n",
    "x = tf.concat([x_0, x_1], 0)\n",
    "y = tf.concat([y_0, y_1], 0)\n",
    "\n",
    "print(x.shape)\n",
    "print(y.shape)\n",
    "print(x)\n",
    "print(y)"
   ]
  },
  {
   "cell_type": "code",
   "execution_count": 14,
   "id": "e4bd40c0",
   "metadata": {},
   "outputs": [],
   "source": [
    "def cross_entropy(x, y, w, b):\n",
    "    y_pred = tf.sigmoid(x*w + b) #a\n",
    "    return -tf.reduce_sum(y*tf.math.log(y_pred) + (1-y)*(tf.math.log(1-y_pred)))\n",
    "\n",
    "def cal_gradient(x, y, w, b):\n",
    "    b_gradient = 0\n",
    "    w_gradient = 0\n",
    "    N = tf.shape(x)[0]\n",
    "    for i in range(0,N):\n",
    "        x_i = x[i]\n",
    "        y_i = y[i]\n",
    "        y_pred = tf.sigmoid(x_i*w + b)\n",
    "        \n",
    "        dL_df1 = -(y_i - y_pred)/(y_pred*(1-y_pred))\n",
    "        dL_df2 = y_pred * (1-y_pred)\n",
    "        \n",
    "        b_gradient += dL_df1*dL_df2*1\n",
    "        w_gradient += dL_df1*dL_df2*x_i\n",
    "    \n",
    "    return[w_gradient, b_gradient]"
   ]
  },
  {
   "cell_type": "code",
   "execution_count": 18,
   "id": "807bc554",
   "metadata": {},
   "outputs": [],
   "source": [
    "def apply_gradient(gradients,parameters,learning_rate):\n",
    "    [w_g, b_g] = gradients\n",
    "    [w,b] = parameters\n",
    "    w = w - learning_rate * w_g\n",
    "    b = b - learning_rate * b_g\n",
    "    return [w,b]"
   ]
  },
  {
   "cell_type": "code",
   "execution_count": 19,
   "id": "38490b0c",
   "metadata": {},
   "outputs": [],
   "source": [
    "def run_opt(x,y,w,b,learning_rate):\n",
    "    gradient = cal_gradient(x,y,w,b)\n",
    "    return apply_gradient(gradient, [w,b], learning_rate)"
   ]
  },
  {
   "cell_type": "code",
   "execution_count": 20,
   "id": "daf3962b",
   "metadata": {},
   "outputs": [
    {
     "name": "stdout",
     "output_type": "stream",
     "text": [
      "step: 0 , loss: 36.833336 , w: [0.73164576] ,b: [-0.4865215]\n",
      "step: 200 , loss: 13.590852 , w: [0.9502844] ,b: [-3.536779]\n",
      "step: 400 , loss: 10.98228 , w: [1.3235271] ,b: [-5.0938125]\n",
      "step: 600 , loss: 9.806002 , w: [1.5758843] ,b: [-6.1442347]\n",
      "step: 800 , loss: 9.139129 , w: [1.7659428] ,b: [-6.936599]\n",
      "step: 1000 , loss: 8.710689 , w: [1.9180769] ,b: [-7.572296]\n",
      "step: 1200 , loss: 8.413015 , w: [2.0446718] ,b: [-8.102467]\n",
      "step: 1400 , loss: 8.194823 , w: [2.152874] ,b: [-8.556543]\n",
      "step: 1600 , loss: 8.0285635 , w: [2.2471771] ,b: [-8.953021]\n",
      "step: 1800 , loss: 7.898092 , w: [2.3305962] ,b: [-9.30431]\n"
     ]
    }
   ],
   "source": [
    "w = tf.Variable(tf.random_normal_initializer(stddev=1)([1]))\n",
    "b = tf.Variable(tf.random_normal_initializer(stddev=1)([1]))\n",
    "\n",
    "learning_rate = 0.005\n",
    "training_steps = 2000\n",
    "display_step = 200\n",
    "\n",
    "for step in range(training_steps):\n",
    "    [w_new, b_new] = run_opt(x,y,w,b,learning_rate)\n",
    "    w = w_new\n",
    "    b = b_new\n",
    "    \n",
    "    if step%display_step == 0:\n",
    "        loss = cross_entropy(x,y,w,b)\n",
    "        print(\"step:\", step, \", loss:\", loss.numpy(), \", w:\", w.numpy(), \",b:\", b.numpy())"
   ]
  },
  {
   "cell_type": "code",
   "execution_count": 29,
   "id": "df0b9123",
   "metadata": {},
   "outputs": [
    {
     "data": {
      "image/png": "[encoded data removed]",
      "text/plain": [
       "<Figure size 800x600 with 1 Axes>"
      ]
     },
     "metadata": {},
     "output_type": "display_data"
    }
   ],
   "source": [
    "x_fl = np.linspace(np.min(x), np.max(x),100)\n",
    "plot_graph(x,y,x_f1,tf.sigmoid(w*x_fl+b))"
   ]
  },
  {
   "cell_type": "code",
   "execution_count": 32,
   "id": "fc1665cc",
   "metadata": {},
   "outputs": [],
   "source": [
    "#dataset load\n",
    "(x_train, y_train), (x_test, y_test) = tf.keras.datasets.mnist.load_data()\n",
    "x_train, x_test = tf.cast(x_train, tf.float32), tf.cast(x_test, tf.float32) #float32로 데이터 타입 변경(원래는 int)\n",
    "num_classes = 10\n",
    "num_features = x_train.shape[1] * x_train.shape[2] # 28 *28 = 784\n",
    "\n",
    "# -1은 원래 SHAPE에서 다른 값으로 나눴을 때의 값을 넣어라! 라는 뜻 -> 원래는 shape / 784의 값이 들어가겠죠\n",
    "x_train, x_test = tf.reshape(x_train, [-1, num_features]), tf.reshape(x_test, [-1, num_features])\n",
    "x_train, x_test = x_train/255., x_test/255.                           "
   ]
  },
  {
   "cell_type": "code",
   "execution_count": 34,
   "id": "35cb166c",
   "metadata": {},
   "outputs": [
    {
     "name": "stdout",
     "output_type": "stream",
     "text": [
      "(60000, 784)\n",
      "(10000, 784)\n"
     ]
    }
   ],
   "source": [
    "print(x_train.shape)\n",
    "print(x_test.shape)"
   ]
  },
  {
   "cell_type": "code",
   "execution_count": 36,
   "id": "6763ebe7",
   "metadata": {},
   "outputs": [],
   "source": [
    "model = tf.keras.Sequential(\n",
    "    [\n",
    "        tf.keras.layers.Dense(128, activation='relu'),\n",
    "        tf.keras.layers.Dense(256, activation='relu'),\n",
    "        tf.keras.layers.Dense(10)\n",
    "    ]\n",
    ")"
   ]
  },
  {
   "cell_type": "code",
   "execution_count": 39,
   "id": "657c3d85",
   "metadata": {},
   "outputs": [
    {
     "name": "stdout",
     "output_type": "stream",
     "text": [
      "Epoch 1/40\n",
      "469/469 [==============================] - 3s 6ms/step - loss: 1.2942 - accuracy: 0.6928\n",
      "Epoch 2/40\n",
      "469/469 [==============================] - 3s 6ms/step - loss: 0.5049 - accuracy: 0.8695\n",
      "Epoch 3/40\n",
      "469/469 [==============================] - 3s 6ms/step - loss: 0.3873 - accuracy: 0.8935\n",
      "Epoch 4/40\n",
      "469/469 [==============================] - 3s 6ms/step - loss: 0.3418 - accuracy: 0.9030\n",
      "Epoch 5/40\n",
      "469/469 [==============================] - 3s 6ms/step - loss: 0.3143 - accuracy: 0.9098\n",
      "Epoch 6/40\n",
      "469/469 [==============================] - 3s 6ms/step - loss: 0.2945 - accuracy: 0.9155\n",
      "Epoch 7/40\n",
      "469/469 [==============================] - 3s 6ms/step - loss: 0.2781 - accuracy: 0.9194\n",
      "Epoch 8/40\n",
      "469/469 [==============================] - 3s 6ms/step - loss: 0.2643 - accuracy: 0.9242\n",
      "Epoch 9/40\n",
      "469/469 [==============================] - 3s 6ms/step - loss: 0.2522 - accuracy: 0.9279\n",
      "Epoch 10/40\n",
      "469/469 [==============================] - 3s 6ms/step - loss: 0.2411 - accuracy: 0.9310\n",
      "Epoch 11/40\n",
      "469/469 [==============================] - 3s 6ms/step - loss: 0.2314 - accuracy: 0.9337\n",
      "Epoch 12/40\n",
      "469/469 [==============================] - 3s 6ms/step - loss: 0.2223 - accuracy: 0.9365\n",
      "Epoch 13/40\n",
      "469/469 [==============================] - 3s 6ms/step - loss: 0.2139 - accuracy: 0.9392\n",
      "Epoch 14/40\n",
      "469/469 [==============================] - 3s 6ms/step - loss: 0.2060 - accuracy: 0.9414\n",
      "Epoch 15/40\n",
      "469/469 [==============================] - 3s 6ms/step - loss: 0.1986 - accuracy: 0.9436\n",
      "Epoch 16/40\n",
      "469/469 [==============================] - 3s 6ms/step - loss: 0.1917 - accuracy: 0.9451\n",
      "Epoch 17/40\n",
      "469/469 [==============================] - 3s 6ms/step - loss: 0.1853 - accuracy: 0.9470\n",
      "Epoch 18/40\n",
      "469/469 [==============================] - 3s 6ms/step - loss: 0.1797 - accuracy: 0.9483\n",
      "Epoch 19/40\n",
      "469/469 [==============================] - 3s 6ms/step - loss: 0.1741 - accuracy: 0.9500\n",
      "Epoch 20/40\n",
      "469/469 [==============================] - 3s 6ms/step - loss: 0.1689 - accuracy: 0.9516\n",
      "Epoch 21/40\n",
      "469/469 [==============================] - 3s 6ms/step - loss: 0.1641 - accuracy: 0.9525\n",
      "Epoch 22/40\n",
      "469/469 [==============================] - 3s 6ms/step - loss: 0.1594 - accuracy: 0.9547\n",
      "Epoch 23/40\n",
      "469/469 [==============================] - 3s 6ms/step - loss: 0.1550 - accuracy: 0.9553\n",
      "Epoch 24/40\n",
      "469/469 [==============================] - 3s 6ms/step - loss: 0.1511 - accuracy: 0.9570\n",
      "Epoch 25/40\n",
      "469/469 [==============================] - 3s 6ms/step - loss: 0.1471 - accuracy: 0.9581\n",
      "Epoch 26/40\n",
      "469/469 [==============================] - 3s 6ms/step - loss: 0.1432 - accuracy: 0.9592\n",
      "Epoch 27/40\n",
      "469/469 [==============================] - 3s 6ms/step - loss: 0.1397 - accuracy: 0.9605\n",
      "Epoch 28/40\n",
      "469/469 [==============================] - 3s 6ms/step - loss: 0.1361 - accuracy: 0.9613\n",
      "Epoch 29/40\n",
      "469/469 [==============================] - 3s 6ms/step - loss: 0.1330 - accuracy: 0.9619\n",
      "Epoch 30/40\n",
      "469/469 [==============================] - 3s 6ms/step - loss: 0.1300 - accuracy: 0.9629\n",
      "Epoch 31/40\n",
      "469/469 [==============================] - 3s 6ms/step - loss: 0.1269 - accuracy: 0.9630\n",
      "Epoch 32/40\n",
      "469/469 [==============================] - 3s 6ms/step - loss: 0.1239 - accuracy: 0.9646\n",
      "Epoch 33/40\n",
      "469/469 [==============================] - 3s 6ms/step - loss: 0.1212 - accuracy: 0.9653\n",
      "Epoch 34/40\n",
      "469/469 [==============================] - 3s 6ms/step - loss: 0.1186 - accuracy: 0.9658\n",
      "Epoch 35/40\n",
      "469/469 [==============================] - 3s 6ms/step - loss: 0.1161 - accuracy: 0.9670\n",
      "Epoch 36/40\n",
      "469/469 [==============================] - 3s 6ms/step - loss: 0.1137 - accuracy: 0.9672\n",
      "Epoch 37/40\n",
      "469/469 [==============================] - 3s 6ms/step - loss: 0.1111 - accuracy: 0.9682\n",
      "Epoch 38/40\n",
      "469/469 [==============================] - 3s 6ms/step - loss: 0.1088 - accuracy: 0.9691\n",
      "Epoch 39/40\n",
      "469/469 [==============================] - 3s 6ms/step - loss: 0.1065 - accuracy: 0.9701\n",
      "Epoch 40/40\n",
      "469/469 [==============================] - 3s 6ms/step - loss: 0.1044 - accuracy: 0.9703\n"
     ]
    }
   ],
   "source": [
    "model.compile(optimizer='SGD', loss=tf.keras.losses.SparseCategoricalCrossentropy(from_logits=True), metrics=['accuracy'])\n",
    "# 어떤 optimizer, 어떤 loss, 어떤 metric을 사용해서 학습할 것인지 넣어줌!!!!!!!!\n",
    "result = model.fit(x_train, y_train, batch_size = 128, epochs = 40)"
   ]
  },
  {
   "cell_type": "code",
   "execution_count": 41,
   "id": "3d779007",
   "metadata": {},
   "outputs": [
    {
     "data": {
      "image/png": "[encoded data removed]",
      "text/plain": [
       "<Figure size 640x480 with 2 Axes>"
      ]
     },
     "metadata": {},
     "output_type": "display_data"
    }
   ],
   "source": [
    "fig,loss_ax = plt.subplots()\n",
    "acc_ax = loss_ax.twinx()\n",
    "\n",
    "loss_ax.plot(result.history['loss'], 'y', label = 'train loss')\n",
    "loss_ax.set_xlabel('epochs')\n",
    "loss_ax.set_ylabel('loss')\n",
    "\n",
    "acc_ax.plot(result.history['accuracy'], 'b', label='train acc')\n",
    "plt.show()"
   ]
  },
  {
   "cell_type": "code",
   "execution_count": 42,
   "id": "7955e05f",
   "metadata": {},
   "outputs": [
    {
     "name": "stdout",
     "output_type": "stream",
     "text": [
      "313/313 [==============================] - 1s 3ms/step - loss: 0.1153 - accuracy: 0.9658\n",
      "0.11529023200273514\n",
      "0.9657999873161316\n"
     ]
    }
   ],
   "source": [
    "test_loss, test_acc = model.evaluate(x_test, y_test)\n",
    "print(test_loss)\n",
    "print(test_acc)"
   ]
  },
  {
   "cell_type": "code",
   "execution_count": null,
   "id": "01b82ef7",
   "metadata": {},
   "outputs": [],
   "source": []
  }
 ],
 "metadata": {
  "kernelspec": {
   "display_name": "Python 3 (ipykernel)",
   "language": "python",
   "name": "python3"
  },
  "language_info": {
   "codemirror_mode": {
    "name": "ipython",
    "version": 3
   },
   "file_extension": ".py",
   "mimetype": "text/x-python",
   "name": "python",
   "nbconvert_exporter": "python",
   "pygments_lexer": "ipython3",
   "version": "3.10.9"
  }
 },
 "nbformat": 4,
 "nbformat_minor": 5
}
