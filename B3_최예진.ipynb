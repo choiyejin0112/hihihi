{
 "cells": [
  {
   "cell_type": "code",
   "execution_count": 1,
   "id": "c2850f9b",
   "metadata": {},
   "outputs": [
    {
     "ename": "ValueError",
     "evalue": "invalid literal for int() with base 10: '/home/piai/.local/share/jupyter/runtime/kernel-9d81b9be-35ac-40a2-bd8f-7b273fa2f16a.json'",
     "output_type": "error",
     "traceback": [
      "\u001b[0;31m---------------------------------------------------------------------------\u001b[0m",
      "\u001b[0;31mValueError\u001b[0m                                Traceback (most recent call last)",
      "Cell \u001b[0;32mIn[1], line 44\u001b[0m\n\u001b[1;32m     40\u001b[0m     \u001b[38;5;28mprint\u001b[39m(\u001b[38;5;124mf\u001b[39m\u001b[38;5;124m\"\u001b[39m\u001b[38;5;132;01m{\u001b[39;00mfile_name\u001b[38;5;132;01m}\u001b[39;00m\u001b[38;5;124m에 저장했어요~~~~\u001b[39m\u001b[38;5;124m\"\u001b[39m)\n\u001b[1;32m     43\u001b[0m \u001b[38;5;28;01mif\u001b[39;00m \u001b[38;5;18m__name__\u001b[39m \u001b[38;5;241m==\u001b[39m \u001b[38;5;124m\"\u001b[39m\u001b[38;5;124m__main__\u001b[39m\u001b[38;5;124m\"\u001b[39m:\n\u001b[0;32m---> 44\u001b[0m     \u001b[43mmain\u001b[49m\u001b[43m(\u001b[49m\u001b[43m)\u001b[49m\n",
      "Cell \u001b[0;32mIn[1], line 27\u001b[0m, in \u001b[0;36mmain\u001b[0;34m()\u001b[0m\n\u001b[1;32m     25\u001b[0m \u001b[38;5;28;01mdef\u001b[39;00m \u001b[38;5;21mmain\u001b[39m():\n\u001b[1;32m     26\u001b[0m     file_name \u001b[38;5;241m=\u001b[39m \u001b[38;5;28mstr\u001b[39m(sys\u001b[38;5;241m.\u001b[39margv[\u001b[38;5;241m1\u001b[39m])\n\u001b[0;32m---> 27\u001b[0m     duration \u001b[38;5;241m=\u001b[39m \u001b[38;5;28;43mint\u001b[39;49m\u001b[43m(\u001b[49m\u001b[43msys\u001b[49m\u001b[38;5;241;43m.\u001b[39;49m\u001b[43margv\u001b[49m\u001b[43m[\u001b[49m\u001b[38;5;241;43m2\u001b[39;49m\u001b[43m]\u001b[49m\u001b[43m)\u001b[49m\n\u001b[1;32m     29\u001b[0m     iface\u001b[38;5;241m=\u001b[39m select_iface()\n\u001b[1;32m     31\u001b[0m     sniff(\n\u001b[1;32m     32\u001b[0m             iface \u001b[38;5;241m=\u001b[39m iface,\n\u001b[1;32m     33\u001b[0m             \u001b[38;5;28mfilter\u001b[39m \u001b[38;5;241m=\u001b[39m \u001b[38;5;124m\"\u001b[39m\u001b[38;5;124mtcp or udp or icmp\u001b[39m\u001b[38;5;124m\"\u001b[39m,\n\u001b[1;32m     34\u001b[0m             prn \u001b[38;5;241m=\u001b[39m \u001b[38;5;28;01mlambda\u001b[39;00m pkt: process_packet(file_name, pkt),\n\u001b[1;32m     35\u001b[0m             timeout\u001b[38;5;241m=\u001b[39mduration\n\u001b[1;32m     36\u001b[0m     )\n",
      "\u001b[0;31mValueError\u001b[0m: invalid literal for int() with base 10: '/home/piai/.local/share/jupyter/runtime/kernel-9d81b9be-35ac-40a2-bd8f-7b273fa2f16a.json'"
     ]
    }
   ],
   "source": [
    "from scapy.all import *\n",
    "import sys\n",
    "import socket\n",
    "\n",
    "def select_iface():\n",
    "    iface_list = socket.if_nameindex() #함수를 호출하여 사용 가능한 네트워크 인터페이스 목록을 가져옴\n",
    "    \n",
    "    if len(iface_list) == 0: # 네트워크 인터페이스가 없을 경우 확인\n",
    "        print(\"OH NO\") # 네트워크 인터페이스가 없을 때 오류 메시지 출력\n",
    "        sys.exit() # 오류 메시지 출력 후 프로그램 종료\n",
    "        \n",
    "    print(\"Available Network Interfaces:\" # 사용 가능한 네트워크 인터페이스 목록 출력 \n",
    "    for iface in iface_list:\n",
    "        i, face = iface # iface의 첫번째 요소를 'i', 두번째 요소를 'face'\n",
    "        print(f\"{i}: {face}\") # 사용 가능한 네트워크 인터페이스 목록 출력\n",
    "        \n",
    "    i = int(\n",
    "            input(f\"\\nSelect network interface number to capture [1-{len(iface_list)}]: \")\n",
    "        ) # 사용자로부터 네트워크 인터페이스 번호 입력 받음\n",
    "    return iface_list[i-1][1]  # 선택한 네트워크 인터페이스 이름 반환\n",
    "\n",
    "def process_packet(file_name, packet):\n",
    "    wrpcap(filename= file_name, pkt = packet, append = True) # 패킷을 파일에 저장 (기존 파일에 추가)\n",
    "    \n",
    "def main():\n",
    "    file_name = str(sys.argv[1]) # 명령줄 인수로 전달된 파일 이름 저name = str(sys.argv[1]) # 명령줄 인수로 전달된 파일 이름 저소저name = str(sys.argv[1]) # 명령줄 인수로 전달된 파일 이름 저name = str(sys.argv[1]) # 명령줄 인수로 전달된 파일 이름 저소장\n",
    "    duration = int(sys.argv[2])  # 명령줄 인수로 전달된 지속 시간 저장\n",
    "    \n",
    "    iface= select_iface() # 사용자가 선택한 네트워크 인터페이스 이름 가져옴\n",
    "    \n",
    "    sniff(\n",
    "            iface = iface,\n",
    "            filter = \"tcp or udp or icmp\",  # TCP, UDP, ICMP 패킷만 캡처\n",
    "            prn = lambda pkt: process_packet(file_name, pkt), # 패킷을 처리하는 함수 지정\n",
    "            timeout=duration # 지속 시간 동안 패킷 캡처\n",
    "    )\n",
    "\n",
    "    \n",
    "    \n",
    "if __name__ == \"__main__\":\n",
    "    main()"
   ]
  },
  {
   "cell_type": "code",
   "execution_count": null,
   "id": "2ba02961",
   "metadata": {},
   "outputs": [],
   "source": []
  }
 ],
 "metadata": {
  "kernelspec": {
   "display_name": "Python 3 (ipykernel)",
   "language": "python",
   "name": "python3"
  },
  "language_info": {
   "codemirror_mode": {
    "name": "ipython",
    "version": 3
   },
   "file_extension": ".py",
   "mimetype": "text/x-python",
   "name": "python",
   "nbconvert_exporter": "python",
   "pygments_lexer": "ipython3",
   "version": "3.10.9"
  }
 },
 "nbformat": 4,
 "nbformat_minor": 5
}
