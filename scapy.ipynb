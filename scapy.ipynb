{
 "cells": [
  {
   "attachments": {},
   "cell_type": "markdown",
   "metadata": {},
   "source": [
    "# Scapy 실습"
   ]
  },
  {
   "cell_type": "code",
   "execution_count": null,
   "metadata": {},
   "outputs": [],
   "source": [
    "from scapy.all import *"
   ]
  },
  {
   "cell_type": "code",
   "execution_count": null,
   "metadata": {},
   "outputs": [],
   "source": [
    "# Scapy에서 제공하는 기능들\n",
    "lsc()"
   ]
  },
  {
   "attachments": {},
   "cell_type": "markdown",
   "metadata": {},
   "source": [
    "## 패킷 구조\n",
    "\n",
    "> `ls(obj, case_sensitive, verbose)`\n",
    "\n",
    "    - obj: 패킷 혹은 패킷 이름 \n",
    "    - case_sensitive (bool): obj가 스트링일 경우 대소문자 구분 여부\n",
    "    - verbose (bool): 추가적인 정보 로깅 여부"
   ]
  },
  {
   "attachments": {},
   "cell_type": "markdown",
   "metadata": {},
   "source": [
    "### IPv4 패킷 구조\n",
    "\n",
    "<img src=\"https://www.dropbox.com/s/7dn0tzw9nzt2dcw/ip.png?raw=1\" width=\"466\" height=\"216\"/>"
   ]
  },
  {
   "cell_type": "code",
   "execution_count": null,
   "metadata": {},
   "outputs": [],
   "source": [
    "ls(IP(), verbose=True)"
   ]
  },
  {
   "attachments": {},
   "cell_type": "markdown",
   "metadata": {},
   "source": [
    "### TCP 패킷 구조\n",
    "\n",
    "<img src=\"https://www.dropbox.com/s/wuo7g9vjzydto8s/tcp.png?raw=1\" width=\"521\" height=\"225\"/>"
   ]
  },
  {
   "cell_type": "code",
   "execution_count": null,
   "metadata": {},
   "outputs": [],
   "source": [
    "ls(TCP(), verbose=True)"
   ]
  },
  {
   "attachments": {},
   "cell_type": "markdown",
   "metadata": {},
   "source": [
    "- `/` 연산자로 패킷을 쌓을 수 있음\n",
    "    - Data Link Layer / Network Layer / Transport Layer\n"
   ]
  },
  {
   "cell_type": "code",
   "execution_count": null,
   "metadata": {},
   "outputs": [],
   "source": [
    "packet = Ether() / IP() / TCP()\n",
    "print(packet.summary())\n",
    "print(packet[IP].summary())"
   ]
  },
  {
   "attachments": {},
   "cell_type": "markdown",
   "metadata": {},
   "source": [
    "- 각 필드에 원하는 값 저장 가능\n",
    "- 각 필드에 접근도 가능"
   ]
  },
  {
   "cell_type": "code",
   "execution_count": null,
   "metadata": {},
   "outputs": [],
   "source": [
    "p = Ether() / IP(dst=\"www.google.com\") / TCP(flags='F')\n",
    "p.summary()"
   ]
  },
  {
   "attachments": {},
   "cell_type": "markdown",
   "metadata": {},
   "source": [
    "### 패킷 캡처\n",
    "\n",
    "> `sniff(iface, prn, filter, count, timeout) -> PacketList`\n",
    "\n",
    "    - iface: 스니핑할 네트워크 인터페이스 (ifconfig로 확인)\n",
    "    - prn: 각각의 캡처된 패킷의 콜백 함수. 콜백 함수는 캡처한 패킷을 인자로 받아야 함.\n",
    "    - filter: BPF (Berkeley Packet Filter) 표현식\n",
    "    - count: 캡처할 패킷 수\n",
    "    - timeout: 캡처할 기간 (초) "
   ]
  },
  {
   "cell_type": "code",
   "execution_count": null,
   "metadata": {},
   "outputs": [],
   "source": [
    "s = sniff(iface=\"en0\", filter=\"tcp\", count=10)\n",
    "s"
   ]
  },
  {
   "cell_type": "code",
   "execution_count": null,
   "metadata": {},
   "outputs": [],
   "source": [
    "for packet in s:\n",
    "    print(packet.summary())"
   ]
  },
  {
   "cell_type": "code",
   "execution_count": null,
   "metadata": {},
   "outputs": [],
   "source": [
    "s[0]"
   ]
  },
  {
   "cell_type": "code",
   "execution_count": null,
   "metadata": {},
   "outputs": [],
   "source": [
    "s[0].show()"
   ]
  },
  {
   "cell_type": "code",
   "execution_count": null,
   "metadata": {},
   "outputs": [],
   "source": [
    "hexdump(s[0])"
   ]
  },
  {
   "attachments": {},
   "cell_type": "markdown",
   "metadata": {},
   "source": [
    "### 인터페이스 리스트 출력"
   ]
  },
  {
   "cell_type": "code",
   "execution_count": null,
   "metadata": {},
   "outputs": [],
   "source": [
    "import socket\n",
    "\n",
    "iface_list = socket.if_nameindex()\n",
    "iface_list"
   ]
  },
  {
   "attachments": {},
   "cell_type": "markdown",
   "metadata": {},
   "source": [
    "### 패킷 파일 저장하기\n",
    "\n",
    "> `wrpcap(filename, pkt)`\n",
    "\n",
    "    - filename: 저장할 pcap, pcapng 파일 이름\n",
    "    - pkt: Packet 혹은 PacketList\n",
    "    - append (bool): pcap 파일에 이어서 작성하고 싶으면 True "
   ]
  },
  {
   "cell_type": "code",
   "execution_count": null,
   "metadata": {},
   "outputs": [],
   "source": [
    "wrpcap(filename=\"10.pcap\", pkt=s)"
   ]
  },
  {
   "attachments": {},
   "cell_type": "markdown",
   "metadata": {},
   "source": [
    "<img src=\"https://www.dropbox.com/s/bhzrdq7k6w71yvd/ex2-1.png?raw=1\" width=\"493\" height=\"257\"/>"
   ]
  },
  {
   "cell_type": "code",
   "execution_count": null,
   "metadata": {},
   "outputs": [],
   "source": [
    "# 콜백함수 예시\n",
    "def process_packet(packet):\n",
    "    wrpcap(pcap_file, packet, append=True)"
   ]
  },
  {
   "attachments": {},
   "cell_type": "markdown",
   "metadata": {},
   "source": [
    "### 패킷 파일 불러오기\n",
    "\n",
    "> `rdpcap(filename) -> PacketList`\n",
    "\n",
    "    - filename: 불러올 pcap, pcapng 파일 이름 "
   ]
  },
  {
   "cell_type": "code",
   "execution_count": null,
   "metadata": {},
   "outputs": [],
   "source": [
    "pcap = rdpcap(\"ex1_jokyo.pcap\")"
   ]
  },
  {
   "attachments": {},
   "cell_type": "markdown",
   "metadata": {},
   "source": [
    "### 패킷 정보 확인"
   ]
  },
  {
   "cell_type": "code",
   "execution_count": null,
   "metadata": {},
   "outputs": [],
   "source": [
    "print(f\"Total number of packets: {len(pcap)}\")\n",
    "print(f\"Bytes of packet: {len(pcap[0])}\")\n",
    "print(f\"Packet arrival time in Unix time: {pcap[0].time}\")\n",
    "print(f\"Packet uses UDP: {pcap[0].haslayer(UDP)}\")\n",
    "print(f\"Src/Dst port of the packet: {pcap[0][UDP].sport}/{pcap[0][UDP].dport}\")"
   ]
  },
  {
   "attachments": {},
   "cell_type": "markdown",
   "metadata": {},
   "source": [
    "<img src=\"https://www.dropbox.com/s/b25w53uvusz063u/ex2-2.png?raw=1\" width=\"487\" height=\"265\"/>"
   ]
  },
  {
   "cell_type": "code",
   "execution_count": null,
   "metadata": {},
   "outputs": [],
   "source": [
    "# load_contrib(\"gtp\")\n",
    "gtp = rdpcap(\"ex3_gtp.pcap\")"
   ]
  },
  {
   "cell_type": "code",
   "execution_count": null,
   "metadata": {},
   "outputs": [],
   "source": [
    "a = gtp[0]\n",
    "a.summary()"
   ]
  },
  {
   "cell_type": "code",
   "execution_count": null,
   "metadata": {},
   "outputs": [],
   "source": [
    "ls(GTP_U_Header())"
   ]
  },
  {
   "cell_type": "code",
   "execution_count": null,
   "metadata": {},
   "outputs": [],
   "source": [
    "ls(a[GTP_U_Header][IP])"
   ]
  },
  {
   "attachments": {},
   "cell_type": "markdown",
   "metadata": {},
   "source": [
    "<img src=\"https://www.dropbox.com/s/00f8pqjjanl9al7/ex3.png?raw=1\" width=\"510\" height=\"281\"/>"
   ]
  }
 ],
 "metadata": {
  "kernelspec": {
   "display_name": "bluewhy",
   "language": "python",
   "name": "python3"
  },
  "language_info": {
   "codemirror_mode": {
    "name": "ipython",
    "version": 3
   },
   "file_extension": ".py",
   "mimetype": "text/x-python",
   "name": "python",
   "nbconvert_exporter": "python",
   "pygments_lexer": "ipython3",
   "version": "3.9.16"
  },
  "orig_nbformat": 4
 },
 "nbformat": 4,
 "nbformat_minor": 2
}
