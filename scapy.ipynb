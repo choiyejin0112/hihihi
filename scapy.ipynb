{
 "cells": [
  {
   "cell_type": "markdown",
   "metadata": {},
   "source": [
    "# Scapy 실습"
   ]
  },
  {
   "cell_type": "code",
   "execution_count": 1,
   "metadata": {},
   "outputs": [],
   "source": [
    "from scapy.all import *"
   ]
  },
  {
   "cell_type": "code",
   "execution_count": 2,
   "metadata": {},
   "outputs": [
    {
     "name": "stdout",
     "output_type": "stream",
     "text": [
      "IPID_count            : Identify IP id values classes in a list of packets\n",
      "arp_mitm              : ARP MitM: poison 2 target's ARP cache\n",
      "arpcachepoison        : Poison targets' ARP cache\n",
      "arping                : Send ARP who-has requests to determine which hosts are up\n",
      "arpleak               : Exploit ARP leak flaws, like NetBSD-SA2017-002.\n",
      "bind_layers           : Bind 2 layers on some specific fields' values.\n",
      "bridge_and_sniff      : Forward traffic between interfaces if1 and if2, sniff and return\n",
      "chexdump              : Build a per byte hexadecimal representation\n",
      "computeNIGroupAddr    : Compute the NI group Address. Can take a FQDN as input parameter\n",
      "corrupt_bits          : Flip a given percentage (at least one bit) or number of bits\n",
      "corrupt_bytes         : Corrupt a given percentage (at least one byte) or number of bytes\n",
      "defrag                : defrag(plist) -> ([not fragmented], [defragmented],\n",
      "defragment            : defragment(plist) -> plist defragmented as much as possible \n",
      "dhcp_request          : Send a DHCP discover request and return the answer.\n",
      "dyndns_add            : Send a DNS add message to a nameserver for \"name\" to have a new \"rdata\"\n",
      "dyndns_del            : Send a DNS delete message to a nameserver for \"name\"\n",
      "etherleak             : Exploit Etherleak flaw\n",
      "explore               : Function used to discover the Scapy layers and protocols.\n",
      "fletcher16_checkbytes : Calculates the Fletcher-16 checkbytes returned as 2 byte binary-string.\n",
      "fletcher16_checksum   : Calculates Fletcher-16 checksum of the given buffer.\n",
      "fragleak              : --\n",
      "fragleak2             : --\n",
      "fragment              : Fragment a big IP datagram\n",
      "fuzz                  : Transform a layer into a fuzzy layer by replacing some default values\n",
      "getmacbyip            : Return MAC address corresponding to a given IP address\n",
      "getmacbyip6           : Returns the MAC address corresponding to an IPv6 address\n",
      "hexdiff               : Show differences between 2 binary strings, Packets...\n",
      "hexdump               : Build a tcpdump like hexadecimal view\n",
      "hexedit               : Run hexedit on a list of packets, then return the edited packets.\n",
      "hexstr                : Build a fancy tcpdump like hex from bytes.\n",
      "import_hexcap         : Imports a tcpdump like hexadecimal view\n",
      "is_promisc            : Try to guess if target is in Promisc mode. The target is provided by its ip.\n",
      "linehexdump           : Build an equivalent view of hexdump() on a single line\n",
      "ls                    : List  available layers, or infos on a given layer class or name.\n",
      "neighsol              : Sends and receive an ICMPv6 Neighbor Solicitation message\n",
      "overlap_frag          : Build overlapping fragments to bypass NIPS\n",
      "promiscping           : Send ARP who-has requests to determine which hosts are in promiscuous mode\n",
      "rderf                 : Read a ERF file and return a packet list\n",
      "rdpcap                : Read a pcap or pcapng file and return a packet list\n",
      "report_ports          : portscan a target and output a LaTeX table\n",
      "restart               : Restarts scapy\n",
      "rfc                   : Generate an RFC-like representation of a packet def.\n",
      "send                  : Send packets at layer 3\n",
      "sendp                 : Send packets at layer 2\n",
      "sendpfast             : Send packets at layer 2 using tcpreplay for performance\n",
      "sniff                 : Sniff packets and return a list of packets.\n",
      "split_layers          : Split 2 layers previously bound.\n",
      "sr                    : Send and receive packets at layer 3\n",
      "sr1                   : Send packets at layer 3 and return only the first answer\n",
      "sr1flood              : Flood and receive packets at layer 3 and return only the first answer\n",
      "srbt                  : send and receive using a bluetooth socket\n",
      "srbt1                 : send and receive 1 packet using a bluetooth socket\n",
      "srflood               : Flood and receive packets at layer 3\n",
      "srloop                : Send a packet at layer 3 in loop and print the answer each time\n",
      "srp                   : Send and receive packets at layer 2\n",
      "srp1                  : Send and receive packets at layer 2 and return only the first answer\n",
      "srp1flood             : Flood and receive packets at layer 2 and return only the first answer\n",
      "srpflood              : Flood and receive packets at layer 2\n",
      "srploop               : Send a packet at layer 2 in loop and print the answer each time\n",
      "tcpdump               : Run tcpdump or tshark on a list of packets.\n",
      "tdecode               : Run tshark on a list of packets.\n",
      "traceroute            : Instant TCP traceroute\n",
      "traceroute6           : Instant TCP traceroute using IPv6\n",
      "traceroute_map        : Util function to call traceroute on multiple targets, then\n",
      "tshark                : Sniff packets and print them calling pkt.summary().\n",
      "wireshark             : Runs Wireshark on a list of packets.\n",
      "wrerf                 : Write a list of packets to a ERF file\n",
      "wrpcap                : Write a list of packets to a pcap file\n",
      "wrpcapng              : Write a list of packets to a pcapng file\n"
     ]
    }
   ],
   "source": [
    "# Scapy에서 제공하는 기능들\n",
    "lsc()"
   ]
  },
  {
   "cell_type": "markdown",
   "metadata": {},
   "source": [
    "## 패킷 구조\n",
    "\n",
    "> `ls(obj, case_sensitive, verbose)`\n",
    "\n",
    "    - obj: 패킷 혹은 패킷 이름 \n",
    "    - case_sensitive (bool): obj가 스트링일 경우 대소문자 구분 여부\n",
    "    - verbose (bool): 추가적인 정보 로깅 여부"
   ]
  },
  {
   "cell_type": "markdown",
   "metadata": {},
   "source": [
    "### IPv4 패킷 구조\n",
    "\n",
    "<img src=\"https://www.dropbox.com/s/7dn0tzw9nzt2dcw/ip.png?raw=1\" width=\"466\" height=\"216\"/>"
   ]
  },
  {
   "cell_type": "code",
   "execution_count": 3,
   "metadata": {},
   "outputs": [
    {
     "name": "stdout",
     "output_type": "stream",
     "text": [
      "version    : BitField  (4 bits)                  = 4               ('4')\n",
      "ihl        : BitField  (4 bits)                  = None            ('None')\n",
      "tos        : XByteField                          = 0               ('0')\n",
      "len        : ShortField                          = None            ('None')\n",
      "id         : ShortField                          = 1               ('1')\n",
      "flags      : FlagsField                          = <Flag 0 ()>     ('<Flag 0 ()>')\n",
      "               MF, DF, evil\n",
      "frag       : BitField  (13 bits)                 = 0               ('0')\n",
      "ttl        : ByteField                           = 64              ('64')\n",
      "proto      : ByteEnumField                       = 0               ('0')\n",
      "chksum     : XShortField                         = None            ('None')\n",
      "src        : SourceIPField                       = '127.0.0.1'     ('None')\n",
      "dst        : DestIPField                         = '127.0.0.1'     ('None')\n",
      "options    : PacketListField                     = []              ('[]')\n"
     ]
    }
   ],
   "source": [
    "ls(IP(), verbose=True)"
   ]
  },
  {
   "cell_type": "markdown",
   "metadata": {},
   "source": [
    "### TCP 패킷 구조\n",
    "\n",
    "<img src=\"https://www.dropbox.com/s/wuo7g9vjzydto8s/tcp.png?raw=1\" width=\"521\" height=\"225\"/>"
   ]
  },
  {
   "cell_type": "code",
   "execution_count": 4,
   "metadata": {},
   "outputs": [
    {
     "name": "stdout",
     "output_type": "stream",
     "text": [
      "sport      : ShortEnumField                      = 20              ('20')\n",
      "dport      : ShortEnumField                      = 80              ('80')\n",
      "seq        : IntField                            = 0               ('0')\n",
      "ack        : IntField                            = 0               ('0')\n",
      "dataofs    : BitField  (4 bits)                  = None            ('None')\n",
      "reserved   : BitField  (3 bits)                  = 0               ('0')\n",
      "flags      : FlagsField                          = <Flag 2 (S)>    ('<Flag 2 (S)>')\n",
      "               F, S, R, P, A, U, E, C, N\n",
      "window     : ShortField                          = 8192            ('8192')\n",
      "chksum     : XShortField                         = None            ('None')\n",
      "urgptr     : ShortField                          = 0               ('0')\n",
      "options    : TCPOptionsField                     = []              (\"b''\")\n"
     ]
    }
   ],
   "source": [
    "ls(TCP(), verbose=True)"
   ]
  },
  {
   "cell_type": "markdown",
   "metadata": {},
   "source": [
    "- `/` 연산자로 패킷을 쌓을 수 있음\n",
    "    - Data Link Layer / Network Layer / Transport Layer\n"
   ]
  },
  {
   "cell_type": "code",
   "execution_count": 5,
   "metadata": {},
   "outputs": [
    {
     "name": "stdout",
     "output_type": "stream",
     "text": [
      "Ether / IP / TCP 127.0.0.1:ftp_data > 127.0.0.1:http S\n",
      "IP / TCP 127.0.0.1:ftp_data > 127.0.0.1:http S\n"
     ]
    }
   ],
   "source": [
    "packet = Ether() / IP() / TCP()\n",
    "print(packet.summary())\n",
    "print(packet[IP].summary())"
   ]
  },
  {
   "cell_type": "markdown",
   "metadata": {},
   "source": [
    "- 각 필드에 원하는 값 저장 가능\n",
    "- 각 필드에 접근도 가능"
   ]
  },
  {
   "cell_type": "code",
   "execution_count": 6,
   "metadata": {},
   "outputs": [
    {
     "data": {
      "text/plain": [
       "'Ether / IP / TCP 141.223.140.38:ftp_data > Net(\"www.google.com/32\"):http F'"
      ]
     },
     "execution_count": 6,
     "metadata": {},
     "output_type": "execute_result"
    }
   ],
   "source": [
    "p = Ether() / IP(dst=\"www.google.com\") / TCP(flags='F')\n",
    "p.summary()"
   ]
  },
  {
   "cell_type": "markdown",
   "metadata": {},
   "source": [
    "### 패킷 캡처\n",
    "\n",
    "> `sniff(iface, prn, filter, count, timeout) -> PacketList`\n",
    "\n",
    "    - iface: 스니핑할 네트워크 인터페이스 (ifconfig로 확인)\n",
    "    - prn: 각각의 캡처된 패킷의 콜백 함수. 콜백 함수는 캡처한 패킷을 인자로 받아야 함.\n",
    "    - filter: BPF (Berkeley Packet Filter) 표현식\n",
    "    - count: 캡처할 패킷 수\n",
    "    - timeout: 캡처할 기간 (초) "
   ]
  },
  {
   "cell_type": "code",
   "execution_count": 8,
   "metadata": {},
   "outputs": [
    {
     "data": {
      "text/plain": [
       "<Sniffed: TCP:10 UDP:0 ICMP:0 Other:0>"
      ]
     },
     "execution_count": 8,
     "metadata": {},
     "output_type": "execute_result"
    }
   ],
   "source": [
    "s = sniff(iface=\"enp0s31f6\", filter=\"tcp\", count=10)\n",
    "s"
   ]
  },
  {
   "cell_type": "code",
   "execution_count": 9,
   "metadata": {},
   "outputs": [
    {
     "name": "stdout",
     "output_type": "stream",
     "text": [
      "Ether / IP / TCP 162.216.150.243:51873 > 141.223.122.151:28 S / Padding\n",
      "Ether / IP / TCP 162.216.149.141:56971 > 141.223.140.27:4083 S / Padding\n",
      "Ether / IP / TCP 185.180.143.190:26942 > 141.223.122.135:8090 S / Padding\n",
      "Ether / IP / TCP 141.223.140.38:46564 > 54.95.144.31:https PA / Raw\n",
      "Ether / IP / TCP 54.95.144.31:https > 141.223.140.38:46564 PA / Raw\n",
      "Ether / IP / TCP 141.223.140.38:46564 > 54.95.144.31:https A\n",
      "Ether / IP / TCP 141.223.140.38:48798 > 34.237.73.95:https PA / Raw\n",
      "Ether / IP / TCP 34.237.73.95:https > 141.223.140.38:48798 PA / Raw\n",
      "Ether / IP / TCP 141.223.140.38:48798 > 34.237.73.95:https A\n",
      "Ether / IP / TCP 141.223.140.38:54478 > 34.120.208.123:https PA / Raw\n"
     ]
    }
   ],
   "source": [
    "for packet in s:\n",
    "    print(packet.summary())"
   ]
  },
  {
   "cell_type": "code",
   "execution_count": 10,
   "metadata": {},
   "outputs": [
    {
     "data": {
      "text/plain": [
       "<Ether  dst=a4:bb:6d:a9:d6:59 src=6c:4e:f6:85:90:46 type=IPv4 |<IP  version=4 ihl=5 tos=0x0 len=44 id=54321 flags= frag=0 ttl=55 proto=tcp chksum=0x6d58 src=162.216.150.243 dst=141.223.122.151 |<TCP  sport=51873 dport=28 seq=2758902701 ack=0 dataofs=6 reserved=0 flags=S window=65535 chksum=0x6307 urgptr=0 options=[('MSS', 1460)] |<Padding  load='\\x00\\x00' |>>>>"
      ]
     },
     "execution_count": 10,
     "metadata": {},
     "output_type": "execute_result"
    }
   ],
   "source": [
    "s[0]"
   ]
  },
  {
   "cell_type": "code",
   "execution_count": 11,
   "metadata": {},
   "outputs": [
    {
     "name": "stdout",
     "output_type": "stream",
     "text": [
      "###[ Ethernet ]### \n",
      "  dst       = a4:bb:6d:a9:d6:59\n",
      "  src       = 6c:4e:f6:85:90:46\n",
      "  type      = IPv4\n",
      "###[ IP ]### \n",
      "     version   = 4\n",
      "     ihl       = 5\n",
      "     tos       = 0x0\n",
      "     len       = 44\n",
      "     id        = 54321\n",
      "     flags     = \n",
      "     frag      = 0\n",
      "     ttl       = 55\n",
      "     proto     = tcp\n",
      "     chksum    = 0x6d58\n",
      "     src       = 162.216.150.243\n",
      "     dst       = 141.223.122.151\n",
      "     \\options   \\\n",
      "###[ TCP ]### \n",
      "        sport     = 51873\n",
      "        dport     = 28\n",
      "        seq       = 2758902701\n",
      "        ack       = 0\n",
      "        dataofs   = 6\n",
      "        reserved  = 0\n",
      "        flags     = S\n",
      "        window    = 65535\n",
      "        chksum    = 0x6307\n",
      "        urgptr    = 0\n",
      "        options   = [('MSS', 1460)]\n",
      "###[ Padding ]### \n",
      "           load      = '\\x00\\x00'\n",
      "\n"
     ]
    }
   ],
   "source": [
    "s[0].show()"
   ]
  },
  {
   "cell_type": "code",
   "execution_count": 12,
   "metadata": {
    "scrolled": true
   },
   "outputs": [
    {
     "name": "stdout",
     "output_type": "stream",
     "text": [
      "0000  A4 BB 6D A9 D6 59 6C 4E F6 85 90 46 08 00 45 00  ..m..YlN...F..E.\n",
      "0010  00 2C D4 31 00 00 37 06 6D 58 A2 D8 96 F3 8D DF  .,.1..7.mX......\n",
      "0020  7A 97 CA A1 00 1C A4 71 83 AD 00 00 00 00 60 02  z......q......`.\n",
      "0030  FF FF 63 07 00 00 02 04 05 B4 00 00              ..c.........\n"
     ]
    }
   ],
   "source": [
    "hexdump(s[0])"
   ]
  },
  {
   "cell_type": "code",
   "execution_count": 25,
   "metadata": {},
   "outputs": [
    {
     "ename": "ValueError",
     "evalue": "invalid literal for int() with base 10: '/home/piai/.local/share/jupyter/runtime/kernel-268f8a46-ed18-4c22-8eb0-45fe4e5f59b5.json'",
     "output_type": "error",
     "traceback": [
      "\u001b[0;31m---------------------------------------------------------------------------\u001b[0m",
      "\u001b[0;31mValueError\u001b[0m                                Traceback (most recent call last)",
      "Cell \u001b[0;32mIn[25], line 44\u001b[0m\n\u001b[1;32m     40\u001b[0m     \u001b[38;5;28mprint\u001b[39m(\u001b[38;5;124mf\u001b[39m\u001b[38;5;124m\"\u001b[39m\u001b[38;5;132;01m{\u001b[39;00mfile_name\u001b[38;5;132;01m}\u001b[39;00m\u001b[38;5;124m에 저장했어요~~~~\u001b[39m\u001b[38;5;124m\"\u001b[39m)\n\u001b[1;32m     43\u001b[0m \u001b[38;5;28;01mif\u001b[39;00m \u001b[38;5;18m__name__\u001b[39m \u001b[38;5;241m==\u001b[39m \u001b[38;5;124m\"\u001b[39m\u001b[38;5;124m__main__\u001b[39m\u001b[38;5;124m\"\u001b[39m:\n\u001b[0;32m---> 44\u001b[0m     \u001b[43mmain\u001b[49m\u001b[43m(\u001b[49m\u001b[43m)\u001b[49m\n",
      "Cell \u001b[0;32mIn[25], line 27\u001b[0m, in \u001b[0;36mmain\u001b[0;34m()\u001b[0m\n\u001b[1;32m     25\u001b[0m \u001b[38;5;28;01mdef\u001b[39;00m \u001b[38;5;21mmain\u001b[39m():\n\u001b[1;32m     26\u001b[0m     file_name \u001b[38;5;241m=\u001b[39m \u001b[38;5;28mstr\u001b[39m(sys\u001b[38;5;241m.\u001b[39margv[\u001b[38;5;241m1\u001b[39m])\n\u001b[0;32m---> 27\u001b[0m     duration \u001b[38;5;241m=\u001b[39m \u001b[38;5;28;43mint\u001b[39;49m\u001b[43m(\u001b[49m\u001b[43msys\u001b[49m\u001b[38;5;241;43m.\u001b[39;49m\u001b[43margv\u001b[49m\u001b[43m[\u001b[49m\u001b[38;5;241;43m2\u001b[39;49m\u001b[43m]\u001b[49m\u001b[43m)\u001b[49m\n\u001b[1;32m     29\u001b[0m     iface\u001b[38;5;241m=\u001b[39m select_iface()\n\u001b[1;32m     31\u001b[0m     sniff(\n\u001b[1;32m     32\u001b[0m             iface \u001b[38;5;241m=\u001b[39m iface,\n\u001b[1;32m     33\u001b[0m             \u001b[38;5;28mfilter\u001b[39m \u001b[38;5;241m=\u001b[39m \u001b[38;5;124m\"\u001b[39m\u001b[38;5;124mtcp or udp or icmp\u001b[39m\u001b[38;5;124m\"\u001b[39m,\n\u001b[1;32m     34\u001b[0m             prn \u001b[38;5;241m=\u001b[39m \u001b[38;5;28;01mlambda\u001b[39;00m pkt: process_packet(file_name, pkt),\n\u001b[1;32m     35\u001b[0m             timeout\u001b[38;5;241m=\u001b[39mduration\n\u001b[1;32m     36\u001b[0m     )\n",
      "\u001b[0;31mValueError\u001b[0m: invalid literal for int() with base 10: '/home/piai/.local/share/jupyter/runtime/kernel-268f8a46-ed18-4c22-8eb0-45fe4e5f59b5.json'"
     ]
    }
   ],
   "source": [
    "from scapy.all import *\n",
    "import sys\n",
    "import socket\n",
    "\n",
    "def select_iface():\n",
    "    iface_list = socket.if_nameindex()\n",
    "    \n",
    "    if len(iface_list) == 0:\n",
    "        print(\"OH NO\")\n",
    "        sys.exit()\n",
    "        \n",
    "    print(\"Available Network Interfaces:\")\n",
    "    for iface in iface_list:\n",
    "        i, face = iface\n",
    "        print(f\"{i}: {face}\")\n",
    "        \n",
    "    i = int(\n",
    "            input(f\"\\nSelect network interface number to capture [1-{len(iface_list)}]: \")\n",
    "        )\n",
    "    return iface_list[i-1][1]\n",
    "\n",
    "def process_packet(file_name, packet):\n",
    "    wrpcap(filename= file_name, pkt = packet, append = True)\n",
    "    \n",
    "def main():\n",
    "    file_name = str(sys.argv[1])\n",
    "    duration = int(sys.argv[2])\n",
    "    \n",
    "    iface= select_iface()\n",
    "    \n",
    "    sniff(\n",
    "            iface = iface,\n",
    "            filter = \"tcp or udp or icmp\",\n",
    "            prn = lambda pkt: process_packet(file_name, pkt),\n",
    "            timeout=duration\n",
    "    )\n",
    "    \n",
    "    print(\"DONE\")\n",
    "    print(f\"{iface}에서 해써요! {duration}동안 캡쳐했어요! 그리고\")\n",
    "    print(f\"{file_name}에 저장했어요~~~~\")\n",
    "    \n",
    "    \n",
    "if __name__ == \"__main__\":\n",
    "    main()"
   ]
  },
  {
   "cell_type": "code",
   "execution_count": 18,
   "metadata": {},
   "outputs": [],
   "source": [
    "from scapy.all import *\n",
    "import sys\n",
    "import socket"
   ]
  },
  {
   "cell_type": "code",
   "execution_count": 20,
   "metadata": {},
   "outputs": [],
   "source": [
    "def select_iface():\n",
    "    iface_list = socket.if_nameindex()\n",
    "    \n",
    "    if len(iface_list) == 0:\n",
    "        print(\"OH NO\")\n",
    "        sys.exit()\n",
    "        \n",
    "    print(\"Available Network Interfaces:\")\n",
    "    for iface in iface_list:\n",
    "        i, face = iface\n",
    "        print(f\"{i}: {face}\")\n",
    "        \n",
    "    i = int(\n",
    "            input(f\"\\nSelect network interface number to capture [1-{len(iface_list)}]: \")\n",
    "        )\n",
    "    return iface_list[i-1][1]"
   ]
  },
  {
   "cell_type": "code",
   "execution_count": 21,
   "metadata": {},
   "outputs": [],
   "source": [
    "def process_packet(file_name, packet):\n",
    "    wrpcap(filename= file_name, pkt = packet, append = True)"
   ]
  },
  {
   "cell_type": "code",
   "execution_count": 24,
   "metadata": {},
   "outputs": [
    {
     "ename": "ValueError",
     "evalue": "invalid literal for int() with base 10: '/home/piai/.local/share/jupyter/runtime/kernel-268f8a46-ed18-4c22-8eb0-45fe4e5f59b5.json'",
     "output_type": "error",
     "traceback": [
      "\u001b[0;31m---------------------------------------------------------------------------\u001b[0m",
      "\u001b[0;31mValueError\u001b[0m                                Traceback (most recent call last)",
      "Cell \u001b[0;32mIn[24], line 20\u001b[0m\n\u001b[1;32m     16\u001b[0m     \u001b[38;5;28mprint\u001b[39m(\u001b[38;5;124mf\u001b[39m\u001b[38;5;124m\"\u001b[39m\u001b[38;5;132;01m{\u001b[39;00mfile_name\u001b[38;5;132;01m}\u001b[39;00m\u001b[38;5;124m에 저장했어요~~~~\u001b[39m\u001b[38;5;124m\"\u001b[39m)\n\u001b[1;32m     19\u001b[0m \u001b[38;5;28;01mif\u001b[39;00m \u001b[38;5;18m__name__\u001b[39m \u001b[38;5;241m==\u001b[39m \u001b[38;5;124m\"\u001b[39m\u001b[38;5;124m__main__\u001b[39m\u001b[38;5;124m\"\u001b[39m:\n\u001b[0;32m---> 20\u001b[0m     \u001b[43mmain\u001b[49m\u001b[43m(\u001b[49m\u001b[43m)\u001b[49m\n",
      "Cell \u001b[0;32mIn[24], line 3\u001b[0m, in \u001b[0;36mmain\u001b[0;34m()\u001b[0m\n\u001b[1;32m      1\u001b[0m \u001b[38;5;28;01mdef\u001b[39;00m \u001b[38;5;21mmain\u001b[39m():\n\u001b[1;32m      2\u001b[0m     file_name \u001b[38;5;241m=\u001b[39m \u001b[38;5;28mstr\u001b[39m(sys\u001b[38;5;241m.\u001b[39margv[\u001b[38;5;241m1\u001b[39m])\n\u001b[0;32m----> 3\u001b[0m     duration \u001b[38;5;241m=\u001b[39m \u001b[38;5;28;43mint\u001b[39;49m\u001b[43m(\u001b[49m\u001b[43msys\u001b[49m\u001b[38;5;241;43m.\u001b[39;49m\u001b[43margv\u001b[49m\u001b[43m[\u001b[49m\u001b[38;5;241;43m2\u001b[39;49m\u001b[43m]\u001b[49m\u001b[43m)\u001b[49m\n\u001b[1;32m      5\u001b[0m     iface\u001b[38;5;241m=\u001b[39m select_iface()\n\u001b[1;32m      7\u001b[0m     sniff(\n\u001b[1;32m      8\u001b[0m             iface \u001b[38;5;241m=\u001b[39m iface,\n\u001b[1;32m      9\u001b[0m             \u001b[38;5;28mfilter\u001b[39m \u001b[38;5;241m=\u001b[39m \u001b[38;5;124m\"\u001b[39m\u001b[38;5;124mtcp or udp or icmp\u001b[39m\u001b[38;5;124m\"\u001b[39m,\n\u001b[1;32m     10\u001b[0m             prn \u001b[38;5;241m=\u001b[39m \u001b[38;5;28;01mlambda\u001b[39;00m pkt: process_packet(file_name, pkt),\n\u001b[1;32m     11\u001b[0m             timeout\u001b[38;5;241m=\u001b[39mduration\n\u001b[1;32m     12\u001b[0m     )\n",
      "\u001b[0;31mValueError\u001b[0m: invalid literal for int() with base 10: '/home/piai/.local/share/jupyter/runtime/kernel-268f8a46-ed18-4c22-8eb0-45fe4e5f59b5.json'"
     ]
    }
   ],
   "source": [
    "def main():\n",
    "    file_name = str(sys.argv[1])\n",
    "    duration = int(sys.argv[2])\n",
    "    \n",
    "    iface= select_iface()\n",
    "    \n",
    "    sniff(\n",
    "            iface = iface,\n",
    "            filter = \"tcp or udp or icmp\",\n",
    "            prn = lambda pkt: process_packet(file_name, pkt),\n",
    "            timeout=duration\n",
    "    )\n",
    "    \n",
    "    print(\"DONE\")\n",
    "    print(f\"{iface}에서 해써요! {duration}동안 캡쳐했어요! 그리고\")\n",
    "    print(f\"{file_name}에 저장했어요~~~~\")\n",
    "    \n",
    "    \n",
    "if __name__ == \"__main__\":\n",
    "    main()"
   ]
  },
  {
   "cell_type": "code",
   "execution_count": null,
   "metadata": {},
   "outputs": [],
   "source": []
  },
  {
   "cell_type": "code",
   "execution_count": null,
   "metadata": {},
   "outputs": [],
   "source": []
  },
  {
   "cell_type": "code",
   "execution_count": null,
   "metadata": {},
   "outputs": [],
   "source": []
  },
  {
   "cell_type": "markdown",
   "metadata": {},
   "source": [
    "### 인터페이스 리스트 출력"
   ]
  },
  {
   "cell_type": "code",
   "execution_count": 17,
   "metadata": {},
   "outputs": [
    {
     "data": {
      "text/plain": [
       "[(1, 'lo'), (2, 'enp2s0'), (3, 'enp0s31f6')]"
      ]
     },
     "execution_count": 17,
     "metadata": {},
     "output_type": "execute_result"
    }
   ],
   "source": [
    "from scapy.all import *\n",
    "import sys\n",
    "import socket\n",
    "\n",
    "iface_list = socket.if_nameindex()\n",
    "iface_list"
   ]
  },
  {
   "cell_type": "markdown",
   "metadata": {},
   "source": [
    "### 패킷 파일 저장하기\n",
    "\n",
    "> `wrpcap(filename, pkt)`\n",
    "\n",
    "    - filename: 저장할 pcap, pcapng 파일 이름\n",
    "    - pkt: Packet 혹은 PacketList\n",
    "    - append (bool): pcap 파일에 이어서 작성하고 싶으면 True "
   ]
  },
  {
   "cell_type": "code",
   "execution_count": 14,
   "metadata": {},
   "outputs": [],
   "source": [
    "wrpcap(filename=\"10.pcap\", pkt=s)"
   ]
  },
  {
   "cell_type": "markdown",
   "metadata": {},
   "source": [
    "<img src=\"https://www.dropbox.com/s/bhzrdq7k6w71yvd/ex2-1.png?raw=1\" width=\"493\" height=\"257\"/>"
   ]
  },
  {
   "cell_type": "code",
   "execution_count": 15,
   "metadata": {},
   "outputs": [],
   "source": [
    "# 콜백함수 예시\n",
    "def process_packet(packet):\n",
    "    wrpcap(pcap_file, packet, append=True)"
   ]
  },
  {
   "cell_type": "markdown",
   "metadata": {},
   "source": [
    "### 패킷 파일 불러오기\n",
    "\n",
    "> `rdpcap(filename) -> PacketList`\n",
    "\n",
    "    - filename: 불러올 pcap, pcapng 파일 이름 "
   ]
  },
  {
   "cell_type": "code",
   "execution_count": 16,
   "metadata": {},
   "outputs": [
    {
     "ename": "FileNotFoundError",
     "evalue": "[Errno 2] No such file or directory: 'ex1_jokyo.pcap'",
     "output_type": "error",
     "traceback": [
      "\u001b[0;31m---------------------------------------------------------------------------\u001b[0m",
      "\u001b[0;31mFileNotFoundError\u001b[0m                         Traceback (most recent call last)",
      "File \u001b[0;32m~/anaconda3/lib/python3.10/site-packages/scapy/utils.py:1209\u001b[0m, in \u001b[0;36mPcapReader_metaclass.open\u001b[0;34m(fname)\u001b[0m\n\u001b[1;32m   1208\u001b[0m \u001b[38;5;28;01mtry\u001b[39;00m:\n\u001b[0;32m-> 1209\u001b[0m     fdesc \u001b[38;5;241m=\u001b[39m \u001b[43mgzip\u001b[49m\u001b[38;5;241;43m.\u001b[39;49m\u001b[43mopen\u001b[49m\u001b[43m(\u001b[49m\u001b[43mfilename\u001b[49m\u001b[43m,\u001b[49m\u001b[43m \u001b[49m\u001b[38;5;124;43m\"\u001b[39;49m\u001b[38;5;124;43mrb\u001b[39;49m\u001b[38;5;124;43m\"\u001b[39;49m\u001b[43m)\u001b[49m  \u001b[38;5;66;03m# type: _ByteStream\u001b[39;00m\n\u001b[1;32m   1210\u001b[0m     magic \u001b[38;5;241m=\u001b[39m fdesc\u001b[38;5;241m.\u001b[39mread(\u001b[38;5;241m4\u001b[39m)\n",
      "File \u001b[0;32m~/anaconda3/lib/python3.10/gzip.py:58\u001b[0m, in \u001b[0;36mopen\u001b[0;34m(filename, mode, compresslevel, encoding, errors, newline)\u001b[0m\n\u001b[1;32m     57\u001b[0m \u001b[38;5;28;01mif\u001b[39;00m \u001b[38;5;28misinstance\u001b[39m(filename, (\u001b[38;5;28mstr\u001b[39m, \u001b[38;5;28mbytes\u001b[39m, os\u001b[38;5;241m.\u001b[39mPathLike)):\n\u001b[0;32m---> 58\u001b[0m     binary_file \u001b[38;5;241m=\u001b[39m \u001b[43mGzipFile\u001b[49m\u001b[43m(\u001b[49m\u001b[43mfilename\u001b[49m\u001b[43m,\u001b[49m\u001b[43m \u001b[49m\u001b[43mgz_mode\u001b[49m\u001b[43m,\u001b[49m\u001b[43m \u001b[49m\u001b[43mcompresslevel\u001b[49m\u001b[43m)\u001b[49m\n\u001b[1;32m     59\u001b[0m \u001b[38;5;28;01melif\u001b[39;00m \u001b[38;5;28mhasattr\u001b[39m(filename, \u001b[38;5;124m\"\u001b[39m\u001b[38;5;124mread\u001b[39m\u001b[38;5;124m\"\u001b[39m) \u001b[38;5;129;01mor\u001b[39;00m \u001b[38;5;28mhasattr\u001b[39m(filename, \u001b[38;5;124m\"\u001b[39m\u001b[38;5;124mwrite\u001b[39m\u001b[38;5;124m\"\u001b[39m):\n",
      "File \u001b[0;32m~/anaconda3/lib/python3.10/gzip.py:174\u001b[0m, in \u001b[0;36mGzipFile.__init__\u001b[0;34m(self, filename, mode, compresslevel, fileobj, mtime)\u001b[0m\n\u001b[1;32m    173\u001b[0m \u001b[38;5;28;01mif\u001b[39;00m fileobj \u001b[38;5;129;01mis\u001b[39;00m \u001b[38;5;28;01mNone\u001b[39;00m:\n\u001b[0;32m--> 174\u001b[0m     fileobj \u001b[38;5;241m=\u001b[39m \u001b[38;5;28mself\u001b[39m\u001b[38;5;241m.\u001b[39mmyfileobj \u001b[38;5;241m=\u001b[39m \u001b[43mbuiltins\u001b[49m\u001b[38;5;241;43m.\u001b[39;49m\u001b[43mopen\u001b[49m\u001b[43m(\u001b[49m\u001b[43mfilename\u001b[49m\u001b[43m,\u001b[49m\u001b[43m \u001b[49m\u001b[43mmode\u001b[49m\u001b[43m \u001b[49m\u001b[38;5;129;43;01mor\u001b[39;49;00m\u001b[43m \u001b[49m\u001b[38;5;124;43m'\u001b[39;49m\u001b[38;5;124;43mrb\u001b[39;49m\u001b[38;5;124;43m'\u001b[39;49m\u001b[43m)\u001b[49m\n\u001b[1;32m    175\u001b[0m \u001b[38;5;28;01mif\u001b[39;00m filename \u001b[38;5;129;01mis\u001b[39;00m \u001b[38;5;28;01mNone\u001b[39;00m:\n",
      "\u001b[0;31mFileNotFoundError\u001b[0m: [Errno 2] No such file or directory: 'ex1_jokyo.pcap'",
      "\nDuring handling of the above exception, another exception occurred:\n",
      "\u001b[0;31mFileNotFoundError\u001b[0m                         Traceback (most recent call last)",
      "Cell \u001b[0;32mIn[16], line 1\u001b[0m\n\u001b[0;32m----> 1\u001b[0m pcap \u001b[38;5;241m=\u001b[39m \u001b[43mrdpcap\u001b[49m\u001b[43m(\u001b[49m\u001b[38;5;124;43m\"\u001b[39;49m\u001b[38;5;124;43mex1_jokyo.pcap\u001b[39;49m\u001b[38;5;124;43m\"\u001b[39;49m\u001b[43m)\u001b[49m\n",
      "File \u001b[0;32m~/anaconda3/lib/python3.10/site-packages/scapy/utils.py:1144\u001b[0m, in \u001b[0;36mrdpcap\u001b[0;34m(filename, count)\u001b[0m\n\u001b[1;32m   1136\u001b[0m \u001b[38;5;124;03m\"\"\"Read a pcap or pcapng file and return a packet list\u001b[39;00m\n\u001b[1;32m   1137\u001b[0m \n\u001b[1;32m   1138\u001b[0m \u001b[38;5;124;03m:param count: read only <count> packets\u001b[39;00m\n\u001b[1;32m   1139\u001b[0m \u001b[38;5;124;03m\"\"\"\u001b[39;00m\n\u001b[1;32m   1140\u001b[0m \u001b[38;5;66;03m# Rant: Our complicated use of metaclasses and especially the\u001b[39;00m\n\u001b[1;32m   1141\u001b[0m \u001b[38;5;66;03m# __call__ function is, of course, not supported by MyPy.\u001b[39;00m\n\u001b[1;32m   1142\u001b[0m \u001b[38;5;66;03m# One day we should simplify this mess and use a much simpler\u001b[39;00m\n\u001b[1;32m   1143\u001b[0m \u001b[38;5;66;03m# layout that will actually be supported and properly dissected.\u001b[39;00m\n\u001b[0;32m-> 1144\u001b[0m \u001b[38;5;28;01mwith\u001b[39;00m \u001b[43mPcapReader\u001b[49m\u001b[43m(\u001b[49m\u001b[43mfilename\u001b[49m\u001b[43m)\u001b[49m \u001b[38;5;28;01mas\u001b[39;00m fdesc:  \u001b[38;5;66;03m# type: ignore\u001b[39;00m\n\u001b[1;32m   1145\u001b[0m     \u001b[38;5;28;01mreturn\u001b[39;00m fdesc\u001b[38;5;241m.\u001b[39mread_all(count\u001b[38;5;241m=\u001b[39mcount)\n",
      "File \u001b[0;32m~/anaconda3/lib/python3.10/site-packages/scapy/utils.py:1179\u001b[0m, in \u001b[0;36mPcapReader_metaclass.__call__\u001b[0;34m(cls, filename)\u001b[0m\n\u001b[1;32m   1174\u001b[0m \u001b[38;5;124;03m\"\"\"Creates a cls instance, use the `alternative` if that\u001b[39;00m\n\u001b[1;32m   1175\u001b[0m \u001b[38;5;124;03mfails.\u001b[39;00m\n\u001b[1;32m   1176\u001b[0m \n\u001b[1;32m   1177\u001b[0m \u001b[38;5;124;03m\"\"\"\u001b[39;00m\n\u001b[1;32m   1178\u001b[0m i \u001b[38;5;241m=\u001b[39m \u001b[38;5;28mcls\u001b[39m\u001b[38;5;241m.\u001b[39m\u001b[38;5;21m__new__\u001b[39m(\u001b[38;5;28mcls\u001b[39m, \u001b[38;5;28mcls\u001b[39m\u001b[38;5;241m.\u001b[39m\u001b[38;5;18m__name__\u001b[39m, \u001b[38;5;28mcls\u001b[39m\u001b[38;5;241m.\u001b[39m\u001b[38;5;18m__bases__\u001b[39m, \u001b[38;5;28mcls\u001b[39m\u001b[38;5;241m.\u001b[39m\u001b[38;5;18m__dict__\u001b[39m)\n\u001b[0;32m-> 1179\u001b[0m filename, fdesc, magic \u001b[38;5;241m=\u001b[39m \u001b[38;5;28;43mcls\u001b[39;49m\u001b[38;5;241;43m.\u001b[39;49m\u001b[43mopen\u001b[49m\u001b[43m(\u001b[49m\u001b[43mfilename\u001b[49m\u001b[43m)\u001b[49m\n\u001b[1;32m   1180\u001b[0m \u001b[38;5;28;01mif\u001b[39;00m \u001b[38;5;129;01mnot\u001b[39;00m magic:\n\u001b[1;32m   1181\u001b[0m     \u001b[38;5;28;01mraise\u001b[39;00m Scapy_Exception(\n\u001b[1;32m   1182\u001b[0m         \u001b[38;5;124m\"\u001b[39m\u001b[38;5;124mNo data could be read!\u001b[39m\u001b[38;5;124m\"\u001b[39m\n\u001b[1;32m   1183\u001b[0m     )\n",
      "File \u001b[0;32m~/anaconda3/lib/python3.10/site-packages/scapy/utils.py:1212\u001b[0m, in \u001b[0;36mPcapReader_metaclass.open\u001b[0;34m(fname)\u001b[0m\n\u001b[1;32m   1210\u001b[0m         magic \u001b[38;5;241m=\u001b[39m fdesc\u001b[38;5;241m.\u001b[39mread(\u001b[38;5;241m4\u001b[39m)\n\u001b[1;32m   1211\u001b[0m     \u001b[38;5;28;01mexcept\u001b[39;00m \u001b[38;5;167;01mIOError\u001b[39;00m:\n\u001b[0;32m-> 1212\u001b[0m         fdesc \u001b[38;5;241m=\u001b[39m \u001b[38;5;28;43mopen\u001b[39;49m\u001b[43m(\u001b[49m\u001b[43mfilename\u001b[49m\u001b[43m,\u001b[49m\u001b[43m \u001b[49m\u001b[38;5;124;43m\"\u001b[39;49m\u001b[38;5;124;43mrb\u001b[39;49m\u001b[38;5;124;43m\"\u001b[39;49m\u001b[43m)\u001b[49m\n\u001b[1;32m   1213\u001b[0m         magic \u001b[38;5;241m=\u001b[39m fdesc\u001b[38;5;241m.\u001b[39mread(\u001b[38;5;241m4\u001b[39m)\n\u001b[1;32m   1214\u001b[0m \u001b[38;5;28;01melse\u001b[39;00m:\n",
      "\u001b[0;31mFileNotFoundError\u001b[0m: [Errno 2] No such file or directory: 'ex1_jokyo.pcap'"
     ]
    }
   ],
   "source": [
    "pcap = rdpcap(\"ex1_jokyo.pcap\")"
   ]
  },
  {
   "cell_type": "markdown",
   "metadata": {},
   "source": [
    "### 패킷 정보 확인"
   ]
  },
  {
   "cell_type": "code",
   "execution_count": null,
   "metadata": {},
   "outputs": [],
   "source": [
    "print(f\"Total number of packets: {len(pcap)}\")\n",
    "print(f\"Bytes of packet: {len(pcap[0])}\")\n",
    "print(f\"Packet arrival time in Unix time: {pcap[0].time}\")\n",
    "print(f\"Packet uses UDP: {pcap[0].haslayer(UDP)}\")\n",
    "print(f\"Src/Dst port of the packet: {pcap[0][UDP].sport}/{pcap[0][UDP].dport}\")"
   ]
  },
  {
   "cell_type": "markdown",
   "metadata": {},
   "source": [
    "<img src=\"https://www.dropbox.com/s/b25w53uvusz063u/ex2-2.png?raw=1\" width=\"487\" height=\"265\"/>"
   ]
  },
  {
   "cell_type": "code",
   "execution_count": null,
   "metadata": {},
   "outputs": [],
   "source": [
    "# load_contrib(\"gtp\")\n",
    "gtp = rdpcap(\"ex3_gtp.pcap\")"
   ]
  },
  {
   "cell_type": "code",
   "execution_count": null,
   "metadata": {},
   "outputs": [],
   "source": [
    "a = gtp[0]\n",
    "a.summary()"
   ]
  },
  {
   "cell_type": "code",
   "execution_count": null,
   "metadata": {},
   "outputs": [],
   "source": [
    "ls(GTP_U_Header())"
   ]
  },
  {
   "cell_type": "code",
   "execution_count": null,
   "metadata": {},
   "outputs": [],
   "source": [
    "ls(a[GTP_U_Header][IP])"
   ]
  },
  {
   "cell_type": "markdown",
   "metadata": {},
   "source": [
    "<img src=\"https://www.dropbox.com/s/00f8pqjjanl9al7/ex3.png?raw=1\" width=\"510\" height=\"281\"/>"
   ]
  }
 ],
 "metadata": {
  "kernelspec": {
   "display_name": "Python 3 (ipykernel)",
   "language": "python",
   "name": "python3"
  },
  "language_info": {
   "codemirror_mode": {
    "name": "ipython",
    "version": 3
   },
   "file_extension": ".py",
   "mimetype": "text/x-python",
   "name": "python",
   "nbconvert_exporter": "python",
   "pygments_lexer": "ipython3",
   "version": "3.10.9"
  }
 },
 "nbformat": 4,
 "nbformat_minor": 2
}
